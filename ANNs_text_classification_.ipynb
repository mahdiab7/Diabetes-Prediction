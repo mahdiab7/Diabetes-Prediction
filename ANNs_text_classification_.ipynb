{
  "nbformat": 4,
  "nbformat_minor": 0,
  "metadata": {
    "colab": {
      "name": "ANNs text classification .ipynb",
      "provenance": [],
      "authorship_tag": "ABX9TyO9jp+HF8kWAdmhRasuzQgt",
      "include_colab_link": true
    },
    "kernelspec": {
      "name": "python3",
      "display_name": "Python 3"
    },
    "language_info": {
      "name": "python"
    }
  },
  "cells": [
    {
      "cell_type": "markdown",
      "metadata": {
        "id": "view-in-github",
        "colab_type": "text"
      },
      "source": [
        "<a href=\"https://colab.research.google.com/github/salarMokhtariL/ANNs-text-classification/blob/main/ANNs_text_classification_.ipynb\" target=\"_parent\"><img src=\"https://colab.research.google.com/assets/colab-badge.svg\" alt=\"Open In Colab\"/></a>"
      ]
    },
    {
      "cell_type": "markdown",
      "source": [
        "Supervised learning with tensorflow to create a ANNs (Neural Network) for text classification. "
      ],
      "metadata": {
        "id": "d7g6MujottAu"
      }
    },
    {
      "cell_type": "code",
      "source": [
        ""
      ],
      "metadata": {
        "id": "26_v2kb0vELi"
      },
      "execution_count": null,
      "outputs": []
    }
  ]
}