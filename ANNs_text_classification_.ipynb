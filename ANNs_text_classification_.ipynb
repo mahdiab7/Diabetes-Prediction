{
  "nbformat": 4,
  "nbformat_minor": 0,
  "metadata": {
    "colab": {
      "name": "ANNs text classification .ipynb",
      "provenance": [],
      "authorship_tag": "ABX9TyOl+muhqmC7NqSJ+5pH9t5e",
      "include_colab_link": true
    },
    "kernelspec": {
      "name": "python3",
      "display_name": "Python 3"
    },
    "language_info": {
      "name": "python"
    }
  },
  "cells": [
    {
      "cell_type": "markdown",
      "metadata": {
        "id": "view-in-github",
        "colab_type": "text"
      },
      "source": [
        "<a href=\"https://colab.research.google.com/github/salarMokhtariL/ANNs-text-classification/blob/main/ANNs_text_classification_.ipynb\" target=\"_parent\"><img src=\"https://colab.research.google.com/assets/colab-badge.svg\" alt=\"Open In Colab\"/></a>"
      ]
    },
    {
      "cell_type": "markdown",
      "source": [
        "# Neural Networks text classification\n",
        "\n",
        "Supervised learning with tensorflow to create a ANNs (Neural Networks) for text classification. "
      ],
      "metadata": {
        "id": "d7g6MujottAu"
      }
    },
    {
      "cell_type": "code",
      "source": [
        ""
      ],
      "metadata": {
        "id": "26_v2kb0vELi"
      },
      "execution_count": null,
      "outputs": []
    }
  ]
}